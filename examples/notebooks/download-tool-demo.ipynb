{
 "cells": [
  {
   "cell_type": "code",
   "execution_count": null,
   "id": "03176981-8e4e-4f7a-9212-e7de92731acc",
   "metadata": {},
   "outputs": [],
   "source": [
    "import hoss\n",
    "import os\n",
    "import tempfile\n",
    "\n",
    "import hoss.tools.download"
   ]
  },
  {
   "cell_type": "markdown",
   "id": "a877dcd2-1bfa-49b2-9bbd-6f08ea14cf89",
   "metadata": {},
   "source": [
    "## Connect to local server\n",
    "This notebook demonstrates how to use the upload tool that is included in the hoss client library.\n",
    "\n",
    "For these demo notebooks, it's assumed you're running against the system running in\n",
    "dev mode and able to connect to localhost.\n",
    "\n",
    "We start by connecting the the \"local\" server. If using a different server be sure to change the `.connect()` arg"
   ]
  },
  {
   "cell_type": "code",
   "execution_count": null,
   "id": "42957e48-f1c5-4511-8dd9-a5f7b02e78fc",
   "metadata": {},
   "outputs": [],
   "source": [
    "server_local = hoss.connect('http://localhost')"
   ]
  },
  {
   "cell_type": "code",
   "execution_count": null,
   "id": "c5450b39-bf83-4bd9-ac19-f2b85c5010fc",
   "metadata": {},
   "outputs": [],
   "source": [
    "print(\"Existing Namespaces:\")\n",
    "print(server_local.list_namespaces())"
   ]
  },
  {
   "cell_type": "markdown",
   "id": "730df799-88a8-4ea3-9fd3-09b19f6387e1",
   "metadata": {},
   "source": [
    "## Create a dataset\n",
    "First load the default namespace and then create a dataset inside the namespace"
   ]
  },
  {
   "cell_type": "code",
   "execution_count": null,
   "id": "6978bae0-533f-4c56-a3f7-e4ea56024545",
   "metadata": {},
   "outputs": [],
   "source": [
    "ns = server_local.get_namespace('default')"
   ]
  },
  {
   "cell_type": "code",
   "execution_count": null,
   "id": "aa5aad2e-80a2-480b-b7a5-a7a32857270e",
   "metadata": {},
   "outputs": [],
   "source": [
    "ds = ns.create_dataset(\"download-test\", \"A dataset for a download tool example\")"
   ]
  },
  {
   "cell_type": "markdown",
   "id": "ebc064fb-8633-4bb1-b89c-b99a02d30d4f",
   "metadata": {},
   "source": [
    "## Write test data to downlaod\n",
    "\n",
    "Write a bunch of data into the dataset we just created. Also create a temporary directory to download the data into."
   ]
  },
  {
   "cell_type": "code",
   "execution_count": null,
   "id": "118f5187-8bfd-4041-867f-33219b72c88f",
   "metadata": {},
   "outputs": [],
   "source": [
    "temp_dir = tempfile.TemporaryDirectory()\n",
    "\n",
    "# Create a bunch of small files\n",
    "for cnt in range(50):\n",
    "    f1 = ds / f\"file{cnt}.txt\"\n",
    "    f1.write_text('1234567890' * 1000)\n",
    "        \n",
    "# Create directory structure with a few bigger files\n",
    "f1 = ds / \"folder1\" / \"file-50.txt\"\n",
    "f1.write_text('1234567890' * 8000000)\n",
    "f1 = ds / \"folder1\" / \"file-51.txt\"\n",
    "f1.write_text('1234567890' * 6000000)\n",
    "f1 = ds / \"folder1\" / \"file-52.txt\"\n",
    "f1.write_text('1234567890' * 5000000)\n",
    "f1 = ds / \"folder1\" / \"subfolder2\" / \"file-53.txt\"\n",
    "f1.write_text('1234567890' * 8000000)\n",
    "f1 = ds / \"folder1\" / \"subfolder2\" / \"file-54.txt\"\n",
    "f1.write_text('1234567890' * 8000000)"
   ]
  },
  {
   "cell_type": "markdown",
   "id": "1a1e483e-e965-497b-89c8-a3f7c29ef78f",
   "metadata": {},
   "source": [
    "## Run download tool\n",
    "\n",
    "You can run the download tool as a function that even works in Jupyter.\n",
    "\n",
    "You can also run the download tool from the command line. When you pip install the hoss client library, the program `hoss` is installed. The format of the command line interface is:\n",
    "\n",
    "`hoss download <dataset name> <namespace name> <prefix> <absolute path to the download dir>`"
   ]
  },
  {
   "cell_type": "code",
   "execution_count": 1,
   "id": "70e04de4-5fa7-4d35-a672-894d5366d37d",
   "metadata": {},
   "outputs": [
    {
     "name": "stdout",
     "output_type": "stream",
     "text": [
      "Usage: hoss download [OPTIONS] DATASET NAMESPACE PREFIX DESTINATION\n",
      "\n",
      "  Download files to a local directory from a prefix in a Dataset\n",
      "\n",
      "  DATASET is the name of the dataset from which to download data\n",
      "\n",
      "  NAMESPACE is the name of the namespace that contains the Dataset\n",
      "\n",
      "  PREFIX is the prefix inside the dataset to download. Use \"/\" to indicate the\n",
      "  root of the dataset.\n",
      "\n",
      "  DESTINATION is the local directory to write files to\n",
      "\n",
      "Options:\n",
      "  -e, --endpoint TEXT            Hoss server root endpoint  [default:\n",
      "                                 http://localhost]\n",
      "  -r, --recursive                If set, download all files with the prefix.\n",
      "                                 Otherwise, only download files at the same\n",
      "                                 level as the prefix, assuming a `/` delimiter\n",
      "                                 in the keys to represent 'directories'\n",
      "                                 [default: False]\n",
      "  -c, --max_concurrency INTEGER  max concurrency used when analyzing the\n",
      "                                 prefix via requests to the object store\n",
      "                                 [default: 10]\n",
      "  -j, --num_processes INTEGER    Number of processes to use when downloading\n",
      "                                 files. If you have too many processes you'll\n",
      "                                 run out of bandwidth and downloads will\n",
      "                                 timeout/fail. If you don't have enough, your\n",
      "                                 download could take more time. In general, if\n",
      "                                 you have lots of small files you benefit from\n",
      "                                 more processes, and if you have large files,\n",
      "                                 you likely don't need that many  [default: 1]\n",
      "  -h, --help                     Show this message and exit.\n"
     ]
    }
   ],
   "source": [
    "!hoss download -h"
   ]
  },
  {
   "cell_type": "code",
   "execution_count": null,
   "id": "debf8754-6671-4503-b6b6-12edeaed5df0",
   "metadata": {},
   "outputs": [],
   "source": [
    "# Try downloading all of the data in the dataset using the prefix `/` and recursive=True\n",
    "hoss.tools.download.download_prefix(ds.dataset_name, ns.name, \"/\", temp_dir.name, server_local.base_url, \n",
    "                                   recursive=True, max_concurrency=10, num_processes=1)"
   ]
  },
  {
   "cell_type": "code",
   "execution_count": null,
   "id": "a39d2eaa-4fd5-4ef1-a84e-a00bcf29557d",
   "metadata": {},
   "outputs": [],
   "source": [
    "# Try downloading just folder of data\n",
    "temp_dir2 = tempfile.TemporaryDirectory()\n",
    "hoss.tools.download.download_prefix(ds.dataset_name, ns.name, \"/folder1\", temp_dir2.name, server_local.base_url, recursive=False)"
   ]
  },
  {
   "cell_type": "markdown",
   "id": "27f57542-c3e5-4fd3-940d-a7dca9c6ec59",
   "metadata": {},
   "source": [
    "## Clean up this example\n",
    "Run these cells to remove the resources created during the test"
   ]
  },
  {
   "cell_type": "code",
   "execution_count": null,
   "id": "a6de848c-6db5-4505-a015-a05a64e0481f",
   "metadata": {},
   "outputs": [],
   "source": [
    "temp_dir.cleanup()"
   ]
  },
  {
   "cell_type": "code",
   "execution_count": null,
   "id": "2aa55208-7a42-444d-a3d9-30a752fb5553",
   "metadata": {},
   "outputs": [],
   "source": [
    "temp_dir2.cleanup()"
   ]
  },
  {
   "cell_type": "code",
   "execution_count": null,
   "id": "bbe09148-28bb-4b3f-8e22-83f0c489ac37",
   "metadata": {},
   "outputs": [],
   "source": [
    "ns.delete_dataset(\"download-test\")"
   ]
  }
 ],
 "metadata": {
  "kernelspec": {
   "display_name": "Python 3 (ipykernel)",
   "language": "python",
   "name": "python3"
  },
  "language_info": {
   "codemirror_mode": {
    "name": "ipython",
    "version": 3
   },
   "file_extension": ".py",
   "mimetype": "text/x-python",
   "name": "python",
   "nbconvert_exporter": "python",
   "pygments_lexer": "ipython3",
   "version": "3.7.8"
  }
 },
 "nbformat": 4,
 "nbformat_minor": 5
}
