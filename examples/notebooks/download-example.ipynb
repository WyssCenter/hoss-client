{
 "cells": [
  {
   "cell_type": "code",
   "execution_count": null,
   "id": "03176981-8e4e-4f7a-9212-e7de92731acc",
   "metadata": {},
   "outputs": [],
   "source": [
    "import hoss\n",
    "import os\n",
    "import time\n",
    "from pathlib import Path\n",
    "import shutil"
   ]
  },
  {
   "cell_type": "markdown",
   "id": "a877dcd2-1bfa-49b2-9bbd-6f08ea14cf89",
   "metadata": {},
   "source": [
    "## Connect to local server\n",
    "This notebook demonstrates basic operations using a single Hoss server.\n",
    "For these demo notebooks, it's assumed you have the `admin` role and are running the server locally\n",
    "on localhost. If using a different server, be sure to change the endpoint in the `.connect()` call.\n",
    "\n",
    "We start by connecting the the \"local\" server. "
   ]
  },
  {
   "cell_type": "code",
   "execution_count": null,
   "id": "42957e48-f1c5-4511-8dd9-a5f7b02e78fc",
   "metadata": {},
   "outputs": [],
   "source": [
    "server_local = hoss.connect('http://localhost')"
   ]
  },
  {
   "cell_type": "code",
   "execution_count": null,
   "id": "c5450b39-bf83-4bd9-ac19-f2b85c5010fc",
   "metadata": {},
   "outputs": [],
   "source": [
    "print(\"Existing Namespaces:\")\n",
    "print(server_local.list_namespaces())"
   ]
  },
  {
   "cell_type": "markdown",
   "id": "730df799-88a8-4ea3-9fd3-09b19f6387e1",
   "metadata": {},
   "source": [
    "## Create a dataset\n",
    "First load the default namespace and then create a dataset inside the namespace"
   ]
  },
  {
   "cell_type": "code",
   "execution_count": null,
   "id": "6978bae0-533f-4c56-a3f7-e4ea56024545",
   "metadata": {},
   "outputs": [],
   "source": [
    "ns = server_local.get_namespace('default')"
   ]
  },
  {
   "cell_type": "code",
   "execution_count": null,
   "id": "aa5aad2e-80a2-480b-b7a5-a7a32857270e",
   "metadata": {},
   "outputs": [],
   "source": [
    "ds = ns.create_dataset(\"download-test\", \"A dataset for a simple example\")\n",
    "ds.display()"
   ]
  },
  {
   "cell_type": "markdown",
   "id": "3aa5c3fb-198b-4fc5-94cc-cd0bb8858286",
   "metadata": {},
   "source": [
    "## Download file function\n",
    "\n",
    "The client library provides everything you need to deal with downloading data\n",
    "\n",
    "We can create a simple function that will download a ref to a specified root directory."
   ]
  },
  {
   "cell_type": "code",
   "execution_count": null,
   "id": "7c944138-5b04-464c-9187-dd5c8358029c",
   "metadata": {},
   "outputs": [],
   "source": [
    "def download_ref(root_dir, ref):\n",
    "    if ref.key[-1] == \"/\":\n",
    "        return\n",
    "    \n",
    "    dest_file = Path(root_dir, ref.key)\n",
    "    dest_dir = dest_file.parents[0]\n",
    "    dest_dir.mkdir(parents=True, exist_ok=True)\n",
    "    \n",
    "    dest_file = Path(root_dir, ref.key)\n",
    "    with open(dest_file, 'wb') as df:\n",
    "        with ref.open('rb') as fh:\n",
    "            df.write(fh.read())"
   ]
  },
  {
   "cell_type": "markdown",
   "id": "7ee855e8-cfc2-42c4-87a6-9cc9dd4c03c5",
   "metadata": {},
   "source": [
    "## Download files in a dataset\n",
    "\n",
    "Using `rglob` or `iterdir` we can easily download all files or files in a directory."
   ]
  },
  {
   "cell_type": "code",
   "execution_count": null,
   "id": "fa66e5b2-7376-4a77-b7d1-139f65fec291",
   "metadata": {},
   "outputs": [],
   "source": [
    "# write a bit more data\n",
    "f1 = ds / \"foo0.txt\"\n",
    "f1.write_text(\"foo0\")\n",
    "f1 = ds / \"folder1\" / \"foo1.txt\"\n",
    "f1.write_text(\"foo1\")\n",
    "f1 = ds / \"folder1\" / \"foo2.txt\"\n",
    "f1.write_text(\"foo2\")\n",
    "f1 = ds / \"folder1\" / \"foo3.txt\"\n",
    "f1.write_text(\"foo3\")\n",
    "f1 = ds / \"folder1\" / \"bar0.txt\"\n",
    "f1.write_text(\"bar0\")"
   ]
  },
  {
   "cell_type": "code",
   "execution_count": null,
   "id": "3a1b27b7-9e4b-47bb-b65a-58b509a94698",
   "metadata": {},
   "outputs": [],
   "source": [
    "for f in (ds).rglob(\"*\"):\n",
    "    print(f)"
   ]
  },
  {
   "cell_type": "code",
   "execution_count": null,
   "id": "955f3918-f4a0-4414-9112-d96bd5939a1f",
   "metadata": {},
   "outputs": [],
   "source": [
    "root_dir = Path(\".\", 'test-dir')\n",
    "for f in (ds).rglob(\"*\"):\n",
    "    download_ref(root_dir, f)"
   ]
  },
  {
   "cell_type": "code",
   "execution_count": null,
   "id": "332c7fd1-583a-4df4-bd74-0dc8e4e892fa",
   "metadata": {},
   "outputs": [],
   "source": [
    "# Clean up local test dir\n",
    "shutil.rmtree(root_dir)"
   ]
  },
  {
   "cell_type": "code",
   "execution_count": null,
   "id": "3433901d-bd95-44d7-95d5-160d7f54402c",
   "metadata": {},
   "outputs": [],
   "source": [
    "root_dir = Path(\".\", 'test-dir')\n",
    "for f in (ds / \"folder1\").iterdir():\n",
    "    download_ref(root_dir, f)"
   ]
  },
  {
   "cell_type": "code",
   "execution_count": null,
   "id": "aec95ff4-f527-4ac7-b70b-67afb6250e60",
   "metadata": {},
   "outputs": [],
   "source": [
    "# Clean up local test dir\n",
    "shutil.rmtree(root_dir)"
   ]
  },
  {
   "cell_type": "markdown",
   "id": "c8bca0fd-f1a2-4c63-8ac7-a860615b431a",
   "metadata": {},
   "source": [
    "## Use search to download data\n",
    "You can use the same method with a `search_ref` call to download files that meet some criteria\n",
    "\n",
    "Available arguments to `search` method:\n",
    "- metadata: dictionary of key-value pairs that must match\n",
    "- namespace: name of namespace to filter results\n",
    "- dataset: name of dataset to filter results (namespace must be set along with dataset to be valid)\n",
    "- modified_before: datetime string format `2006-01-02T15:04:05.000Z` to filter results\n",
    "- modified_after: datetime string format `2006-01-02T15:04:05.000Z` to filter results\n",
    "- limit: number of items to return per page\n",
    "- offset: starting point in the index for returned items"
   ]
  },
  {
   "cell_type": "code",
   "execution_count": null,
   "id": "4d2d021d-e55b-4bc4-9673-07fb369a13b6",
   "metadata": {},
   "outputs": [],
   "source": [
    "f2= ds / \"with-meta\"/ \"test2.txt\"\n",
    "f2.write_text(\"my data file\", metadata={'foo': 'bar', 'fizz': 'buzz'})\n",
    "f3 = ds / \"with-meta\"/ \"test3.txt\"\n",
    "f3.write_text(\"my data file\", metadata={'foo': 'bar', 'fizz': 'other'})\n",
    "f4 = ds / \"with-meta\"/ \"test4.txt\"\n",
    "f4.write_text(\"my data file\", metadata={'foo': 'bar'})\n",
    "time.sleep(2)"
   ]
  },
  {
   "cell_type": "code",
   "execution_count": null,
   "id": "0fe320be-4ae2-41d5-9ccd-1f670b64930b",
   "metadata": {},
   "outputs": [],
   "source": [
    "server_local.search({'foo': 'bar'})"
   ]
  },
  {
   "cell_type": "code",
   "execution_count": null,
   "id": "51952e9b-a135-41bf-bd5e-01fd5a5fc52f",
   "metadata": {},
   "outputs": [],
   "source": [
    "results = server_local.search_refs({'foo': 'bar'})\n",
    "root_dir = Path(\".\", 'test-dir')\n",
    "for f in results:\n",
    "    download_ref(root_dir, f)"
   ]
  },
  {
   "cell_type": "code",
   "execution_count": null,
   "id": "4308270c-4efd-4731-82a8-24bf571da2af",
   "metadata": {},
   "outputs": [],
   "source": [
    "# Clean up local test dir\n",
    "shutil.rmtree(root_dir)"
   ]
  },
  {
   "cell_type": "markdown",
   "id": "27f57542-c3e5-4fd3-940d-a7dca9c6ec59",
   "metadata": {},
   "source": [
    "## Clean up this example\n",
    "\n",
    "Run these cells to remove the resources created during the test"
   ]
  },
  {
   "cell_type": "code",
   "execution_count": null,
   "id": "bbe09148-28bb-4b3f-8e22-83f0c489ac37",
   "metadata": {},
   "outputs": [],
   "source": [
    "ns.delete_dataset(\"download-test\")"
   ]
  },
  {
   "cell_type": "code",
   "execution_count": null,
   "id": "d2283d88-2293-4c18-8b52-3bc6be014f8b",
   "metadata": {},
   "outputs": [],
   "source": []
  }
 ],
 "metadata": {
  "kernelspec": {
   "display_name": "Python 3 (ipykernel)",
   "language": "python",
   "name": "python3"
  },
  "language_info": {
   "codemirror_mode": {
    "name": "ipython",
    "version": 3
   },
   "file_extension": ".py",
   "mimetype": "text/x-python",
   "name": "python",
   "nbconvert_exporter": "python",
   "pygments_lexer": "ipython3",
   "version": "3.7.8"
  }
 },
 "nbformat": 4,
 "nbformat_minor": 5
}
