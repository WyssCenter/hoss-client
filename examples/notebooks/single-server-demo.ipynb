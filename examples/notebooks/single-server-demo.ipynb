{
 "cells": [
  {
   "cell_type": "code",
   "execution_count": null,
   "id": "03176981-8e4e-4f7a-9212-e7de92731acc",
   "metadata": {},
   "outputs": [],
   "source": [
    "import hoss\n",
    "import os\n",
    "import time"
   ]
  },
  {
   "cell_type": "markdown",
   "id": "a877dcd2-1bfa-49b2-9bbd-6f08ea14cf89",
   "metadata": {},
   "source": [
    "## Connect to local server\n",
    "This notebook demonstrates basic operations using a single Hoss server.\n",
    "For these demo notebooks, it's assumed you have the `admin` role and are running the server locally\n",
    "on localhost. If using a different server, be sure to change the endpoint in the `.connect()` call.\n",
    "\n",
    "We start by connecting the the \"local\" server. "
   ]
  },
  {
   "cell_type": "code",
   "execution_count": null,
   "id": "42957e48-f1c5-4511-8dd9-a5f7b02e78fc",
   "metadata": {},
   "outputs": [],
   "source": [
    "server_local = hoss.connect('http://localhost')"
   ]
  },
  {
   "cell_type": "code",
   "execution_count": null,
   "id": "c5450b39-bf83-4bd9-ac19-f2b85c5010fc",
   "metadata": {},
   "outputs": [],
   "source": [
    "print(\"Existing Namespaces:\")\n",
    "print(server_local.list_namespaces())"
   ]
  },
  {
   "cell_type": "markdown",
   "id": "730df799-88a8-4ea3-9fd3-09b19f6387e1",
   "metadata": {},
   "source": [
    "## Create a dataset\n",
    "First load the default namespace and then create a dataset inside the namespace"
   ]
  },
  {
   "cell_type": "code",
   "execution_count": null,
   "id": "6978bae0-533f-4c56-a3f7-e4ea56024545",
   "metadata": {},
   "outputs": [],
   "source": [
    "ns = server_local.get_namespace('default')"
   ]
  },
  {
   "cell_type": "code",
   "execution_count": null,
   "id": "aa5aad2e-80a2-480b-b7a5-a7a32857270e",
   "metadata": {},
   "outputs": [],
   "source": [
    "ds = ns.create_dataset(\"simple-test\", \"A dataset for a simple example\")\n",
    "ds.display()"
   ]
  },
  {
   "cell_type": "markdown",
   "id": "ebc064fb-8633-4bb1-b89c-b99a02d30d4f",
   "metadata": {},
   "source": [
    "## Write and read files from the dataset\n",
    "The client library exposes familiar `pathlib`-like interfaces to interact with object stores\n",
    "like they were files"
   ]
  },
  {
   "cell_type": "code",
   "execution_count": null,
   "id": "70e04de4-5fa7-4d35-a672-894d5366d37d",
   "metadata": {},
   "outputs": [],
   "source": [
    "# Object references follow a path building method similar to pathlib\n",
    "f1 = ds / \"my-file.txt\"\n",
    "f1.write_text(\"Hello, Hoss!\")"
   ]
  },
  {
   "cell_type": "code",
   "execution_count": null,
   "id": "debf8754-6671-4503-b6b6-12edeaed5df0",
   "metadata": {},
   "outputs": [],
   "source": [
    "# Read/write text easily\n",
    "print(f1.read_text())"
   ]
  },
  {
   "cell_type": "code",
   "execution_count": null,
   "id": "ba93628e-3711-415a-912e-15bdac532469",
   "metadata": {},
   "outputs": [],
   "source": [
    "# Refs have useful properties\n",
    "print(f1.etag)\n",
    "print(f1.size_bytes)\n",
    "print(f1.last_modified)"
   ]
  },
  {
   "cell_type": "code",
   "execution_count": null,
   "id": "27ea4c51-6e11-428d-ac65-e4e2a4baf10c",
   "metadata": {},
   "outputs": [],
   "source": [
    "f1.write_text(\"Hello, Hoss!!!!!!!!!\")"
   ]
  },
  {
   "cell_type": "code",
   "execution_count": null,
   "id": "6e9facf3-2b37-4992-998d-d7222679863a",
   "metadata": {},
   "outputs": [],
   "source": [
    "# Refs have useful properties\n",
    "print(f1.etag)\n",
    "print(f1.size_bytes)\n",
    "print(f1.last_modified)"
   ]
  },
  {
   "cell_type": "code",
   "execution_count": null,
   "id": "bcce7e51-71bf-4fdb-9bf2-3f519de81762",
   "metadata": {},
   "outputs": [],
   "source": [
    "# Can write bytes directly\n",
    "f2 = ds / \"my-file.bin\"\n",
    "f2.write_bytes(b\"some data\")"
   ]
  },
  {
   "cell_type": "code",
   "execution_count": null,
   "id": "081f1aa6-2eed-45cd-a477-138a098955c7",
   "metadata": {},
   "outputs": [],
   "source": [
    "# Read text easily as well\n",
    "print(f2.read_bytes())"
   ]
  },
  {
   "cell_type": "code",
   "execution_count": null,
   "id": "2ae64cb3-a2fc-4e81-be61-3e3b4a167314",
   "metadata": {},
   "outputs": [],
   "source": [
    "# You can write from a file easily\n",
    "filename = os.path.join(os.getcwd(), \"example-file.txt\")\n",
    "\n",
    "f3 = ds / \"example-files\" / \"file1.txt\"\n",
    "print(f3.exists())"
   ]
  },
  {
   "cell_type": "code",
   "execution_count": null,
   "id": "b2eb2009-3d25-4261-a6bb-ac007008b430",
   "metadata": {},
   "outputs": [],
   "source": [
    "f3.write_from(filename)\n",
    "print(f3.exists())"
   ]
  },
  {
   "cell_type": "code",
   "execution_count": null,
   "id": "57d342ee-a919-475c-b396-d2cc423e9dfb",
   "metadata": {},
   "outputs": [],
   "source": [
    "print(f3.read_text())"
   ]
  },
  {
   "cell_type": "code",
   "execution_count": null,
   "id": "ddad839e-8777-49cc-8180-168fcb389a87",
   "metadata": {},
   "outputs": [],
   "source": [
    "# A context manager interface is available as well\n",
    "with f3.open('rt') as fh:\n",
    "    print(fh.read())"
   ]
  },
  {
   "cell_type": "code",
   "execution_count": null,
   "id": "0bb9d7c3-3d7f-4f76-8e3c-7c068bca2d4e",
   "metadata": {},
   "outputs": [],
   "source": [
    "# It's easy to delete objects too\n",
    "f3.remove()\n",
    "print(f3.exists())"
   ]
  },
  {
   "cell_type": "markdown",
   "id": "7ee855e8-cfc2-42c4-87a6-9cc9dd4c03c5",
   "metadata": {},
   "source": [
    "## Interact and find with files in a dataset\n",
    "glob, rglob, and iterdir interfaces are available to iterate through files in a dataset.\n",
    "\n",
    "For large datasets, this can be useful way to interate and filter."
   ]
  },
  {
   "cell_type": "code",
   "execution_count": null,
   "id": "fa66e5b2-7376-4a77-b7d1-139f65fec291",
   "metadata": {},
   "outputs": [],
   "source": [
    "# write a bit more data\n",
    "f1 = ds / \"foo0.txt\"\n",
    "f1.write_text(\"foo0\")\n",
    "f1 = ds / \"folder1\" / \"foo1.txt\"\n",
    "f1.write_text(\"foo1\")\n",
    "f1 = ds / \"folder1\" / \"foo2.txt\"\n",
    "f1.write_text(\"foo2\")\n",
    "f1 = ds / \"folder1\" / \"foo3.txt\"\n",
    "f1.write_text(\"foo3\")\n",
    "f1 = ds / \"folder1\" / \"bar0.txt\"\n",
    "f1.write_text(\"bar0\")"
   ]
  },
  {
   "cell_type": "code",
   "execution_count": null,
   "id": "955f3918-f4a0-4414-9112-d96bd5939a1f",
   "metadata": {},
   "outputs": [],
   "source": [
    "for f in ds.glob(\"*\"):\n",
    "    print(f)"
   ]
  },
  {
   "cell_type": "code",
   "execution_count": null,
   "id": "e0381416-6370-4052-a040-66c2d17706b1",
   "metadata": {},
   "outputs": [],
   "source": [
    "for f in (ds).glob(\"foo*\"):\n",
    "    print(f)"
   ]
  },
  {
   "cell_type": "code",
   "execution_count": null,
   "id": "4641f866-b7bf-4737-85d5-63bf2904898d",
   "metadata": {},
   "outputs": [],
   "source": [
    "for f in (ds).glob(\"**/foo*\"):\n",
    "    print(f)"
   ]
  },
  {
   "cell_type": "code",
   "execution_count": null,
   "id": "126fa2d5-f6b1-4800-8264-92905984412b",
   "metadata": {},
   "outputs": [],
   "source": [
    "for f in (ds).iterdir():\n",
    "    print(f)"
   ]
  },
  {
   "cell_type": "code",
   "execution_count": null,
   "id": "3433901d-bd95-44d7-95d5-160d7f54402c",
   "metadata": {},
   "outputs": [],
   "source": [
    "for f in (ds / \"folder1\").iterdir():\n",
    "    print(f)"
   ]
  },
  {
   "cell_type": "markdown",
   "id": "c4dcf55d-7ba7-45f6-97bb-867f1a3f4a76",
   "metadata": {},
   "source": [
    "## Use metadata to enrich datasets\n",
    "Metadata key-value pairs can be attached to objects when they are written.\n",
    "\n",
    "Note, both keys and values must be strings. They are case insensitive and will be converted to lowercase."
   ]
  },
  {
   "cell_type": "code",
   "execution_count": null,
   "id": "7fd01a6b-03f1-4a8b-8e0f-d64bfb5acbe3",
   "metadata": {},
   "outputs": [],
   "source": [
    "f1 = ds / \"with-meta\"/ \"test1.txt\"\n",
    "\n",
    "f1.write_text(\"my data file\", metadata={'foo': 'bar', 'fizz': 'buzz'})"
   ]
  },
  {
   "cell_type": "code",
   "execution_count": null,
   "id": "7e76a8db-44fd-4f05-8f2a-874e5db7601d",
   "metadata": {},
   "outputs": [],
   "source": [
    "print(f1.metadata)"
   ]
  },
  {
   "cell_type": "code",
   "execution_count": null,
   "id": "0c74ce86-ea76-4fa1-b5a1-ee8f27e9f033",
   "metadata": {},
   "outputs": [],
   "source": [
    "# If you omit metadata on an object that already has some, it persists automatically\n",
    "f1.write_text(\"i changed my file\")\n",
    "print(f1.metadata)\n",
    "print(f1.read_text())"
   ]
  },
  {
   "cell_type": "code",
   "execution_count": null,
   "id": "119a74ed-fdae-44a6-9de5-0b38fdd2a329",
   "metadata": {},
   "outputs": [],
   "source": [
    "# If you set an empty dict, all metadata will be removed\n",
    "f1.write_text(\"no metadata this time\", metadata={})\n",
    "print(f1.metadata)\n",
    "print(f1.read_text())"
   ]
  },
  {
   "cell_type": "markdown",
   "id": "c8bca0fd-f1a2-4c63-8ac7-a860615b431a",
   "metadata": {},
   "source": [
    "## Use search to find data\n",
    "You can search all the data that you have access to via key-value pairs.\n",
    "\n",
    "Remember permissions are applied to search results, so you'll only see results to which you have at least read access.\n",
    "\n",
    "Available arguments to `search` method:\n",
    "- metadata: dictionary of key-value pairs that must match\n",
    "- namespace: name of namespace to filter results\n",
    "- dataset: name of dataset to filter results (namespace must be set along with dataset to be valid)\n",
    "- modified_before: datetime string format `2006-01-02T15:04:05.000Z` to filter results\n",
    "- modified_after: datetime string format `2006-01-02T15:04:05.000Z` to filter results\n",
    "- limit: number of items to return per page\n",
    "- offset: starting point in the index for returned items"
   ]
  },
  {
   "cell_type": "code",
   "execution_count": null,
   "id": "4d2d021d-e55b-4bc4-9673-07fb369a13b6",
   "metadata": {},
   "outputs": [],
   "source": [
    "f2= ds / \"with-meta\"/ \"test2.txt\"\n",
    "f2.write_text(\"my data file\", metadata={'foo': 'bar', 'fizz': 'buzz'})\n",
    "f3 = ds / \"with-meta\"/ \"test3.txt\"\n",
    "f3.write_text(\"my data file\", metadata={'foo': 'bar', 'fizz': 'other'})\n",
    "f4 = ds / \"with-meta\"/ \"test4.txt\"\n",
    "f4.write_text(\"my data file\", metadata={'foo': 'bar'})\n",
    "time.sleep(2)"
   ]
  },
  {
   "cell_type": "code",
   "execution_count": null,
   "id": "0fe320be-4ae2-41d5-9ccd-1f670b64930b",
   "metadata": {},
   "outputs": [],
   "source": [
    "server_local.search({'foo': 'bar'})"
   ]
  },
  {
   "cell_type": "code",
   "execution_count": null,
   "id": "51952e9b-a135-41bf-bd5e-01fd5a5fc52f",
   "metadata": {},
   "outputs": [],
   "source": [
    "server_local.search({'foo': 'bar'}, limit=1)"
   ]
  },
  {
   "cell_type": "code",
   "execution_count": null,
   "id": "db1b7dde-bc93-4571-9fad-90855f47f6bd",
   "metadata": {},
   "outputs": [],
   "source": [
    "server_local.search({'foo': 'bar'}, limit=1, offset=1)"
   ]
  },
  {
   "cell_type": "markdown",
   "id": "378b39be-7d3b-42cb-b01f-2be9c92a2ca1",
   "metadata": {},
   "source": [
    "Using the `search_refs()` function will return `DatasetRef` instances instead of raw response data. This is useful because you can then directly interact with the results"
   ]
  },
  {
   "cell_type": "code",
   "execution_count": null,
   "id": "a91ccd9a-3990-4c60-b6f9-ea4f989e7507",
   "metadata": {},
   "outputs": [],
   "source": [
    "results = server_local.search_refs({'fizz': 'buzz'})\n",
    "results"
   ]
  },
  {
   "cell_type": "code",
   "execution_count": null,
   "id": "4308270c-4efd-4731-82a8-24bf571da2af",
   "metadata": {},
   "outputs": [],
   "source": [
    "results[0].read_text()"
   ]
  },
  {
   "cell_type": "markdown",
   "metadata": {},
   "source": [
    "## Get suggestions for metadata keys and values\n",
    "You can get suggestions for keys or values based on the existing metadata within a dataset.\n",
    "\n",
    "Available arguments to the `suggest` methods:\n",
    "- key: for value suggestions only, a key must be specified to filter suggestions.\n",
    "- prefix: string prefix to base suggestions on. Suggestions will include keys or values beginning with this prefix.\n",
    "- limit: number of objects to return suggestions. The exact number of suggestions may vary due to de-duplication of results and multiple matching keys or values within a single object."
   ]
  },
  {
   "cell_type": "code",
   "execution_count": null,
   "metadata": {},
   "outputs": [],
   "source": [
    "ds.suggest_keys('f')"
   ]
  },
  {
   "cell_type": "code",
   "execution_count": null,
   "metadata": {},
   "outputs": [],
   "source": [
    "ds.suggest_values('fizz', 'bu')"
   ]
  },
  {
   "cell_type": "markdown",
   "id": "27f57542-c3e5-4fd3-940d-a7dca9c6ec59",
   "metadata": {},
   "source": [
    "## Clean up this example\n",
    "\n",
    "Run these cells to remove the resources created during the test"
   ]
  },
  {
   "cell_type": "code",
   "execution_count": null,
   "id": "bbe09148-28bb-4b3f-8e22-83f0c489ac37",
   "metadata": {},
   "outputs": [],
   "source": [
    "ns.delete_dataset(\"simple-test\")"
   ]
  },
  {
   "cell_type": "code",
   "execution_count": null,
   "id": "d2283d88-2293-4c18-8b52-3bc6be014f8b",
   "metadata": {},
   "outputs": [],
   "source": []
  }
 ],
 "metadata": {
  "interpreter": {
   "hash": "86afcc7c1bf4d3cafdb199fdc7f77aca8415fdf140601e898a55fe9ea146a752"
  },
  "kernelspec": {
   "display_name": "Python 3.7.10 64-bit ('3.7.10': pyenv)",
   "name": "python3"
  },
  "language_info": {
   "codemirror_mode": {
    "name": "ipython",
    "version": 3
   },
   "file_extension": ".py",
   "mimetype": "text/x-python",
   "name": "python",
   "nbconvert_exporter": "python",
   "pygments_lexer": "ipython3",
   "version": "3.7.10"
  }
 },
 "nbformat": 4,
 "nbformat_minor": 5
}
