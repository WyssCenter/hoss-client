{
 "cells": [
  {
   "cell_type": "code",
   "execution_count": null,
   "id": "03176981-8e4e-4f7a-9212-e7de92731acc",
   "metadata": {},
   "outputs": [],
   "source": [
    "import hoss\n",
    "import os\n",
    "import shutil\n",
    "import time"
   ]
  },
  {
   "cell_type": "markdown",
   "id": "a877dcd2-1bfa-49b2-9bbd-6f08ea14cf89",
   "metadata": {},
   "source": [
    "## Connect to local server\n",
    "This notebook demonstrates basic operations using a single Hoss server.\n",
    "\n",
    "**Note, for this notebook to work, it's assumed you're running against the system running in\n",
    "dev mode and able to connect to localhost. If you are not, you need an admin to create additional\n",
    "buckets or already have namespaces that you can use and sync between.**\n",
    "\n",
    "We start by connecting the the \"local\" server. If using a different server be sure to change the `.connect()` arg"
   ]
  },
  {
   "cell_type": "code",
   "execution_count": null,
   "id": "42957e48-f1c5-4511-8dd9-a5f7b02e78fc",
   "metadata": {},
   "outputs": [],
   "source": [
    "server_local = hoss.connect('http://localhost')"
   ]
  },
  {
   "cell_type": "markdown",
   "id": "ff1f2223-ddd6-48e8-b1a0-892948ebf6f2",
   "metadata": {},
   "source": [
    "## Create namespaces for the sync test\n",
    "Syncing is done between namespaces, so we create two test namespaces that can be configured"
   ]
  },
  {
   "cell_type": "code",
   "execution_count": null,
   "id": "15a2ace0-27bd-41f9-9210-803d9cdd6ced",
   "metadata": {},
   "outputs": [],
   "source": [
    "# When running minio locally, we can simply create a folder in the minio data directory\n",
    "# to create a new bucket\n",
    "hoss_data_dir = os.path.expanduser(os.path.join(\"~\", \".hoss\", \"data\", \"nas\"))\n",
    "os.makedirs(os.path.join(hoss_data_dir, \"src_bucket\"))\n",
    "os.makedirs(os.path.join(hoss_data_dir, \"tgt_bucket\"))"
   ]
  },
  {
   "cell_type": "code",
   "execution_count": null,
   "id": "f465ba88-e163-4ad5-87ac-5b447f99c70c",
   "metadata": {},
   "outputs": [],
   "source": [
    "ns_src = server_local.create_namespace(\"ns-src\", \"test source namespace\", \"default\", \"src_bucket\")\n",
    "ns_tgt = server_local.create_namespace(\"ns-tgt\", \"test target namespace\", \"default\", \"tgt_bucket\")"
   ]
  },
  {
   "cell_type": "markdown",
   "id": "edb157b9-61f5-4f99-b4fa-418ce2173d29",
   "metadata": {},
   "source": [
    "## Enable namespace syncing\n",
    "\n",
    "Set the namespaces to duplex syncing. That will let us then configure individual datasets\n",
    "for 1-way (simplex) or 2-way (duplex) syncing"
   ]
  },
  {
   "cell_type": "code",
   "execution_count": null,
   "id": "f385df88-2144-4b8c-9e9e-0a9be0704f90",
   "metadata": {},
   "outputs": [],
   "source": [
    "# After enabling duplex syncing, we need to wait 45 seconds. This is due to the reload cycle\n",
    "# on the sync service that has to happen twice, once for each direction of the sync relationship\n",
    "ns_src.enable_sync_target(\"http://localhost\", \"duplex\", \"ns-tgt\")\n",
    "print(\"Waiting 45 seconds for sync service reloads\")\n",
    "time.sleep(45)"
   ]
  },
  {
   "cell_type": "markdown",
   "id": "730df799-88a8-4ea3-9fd3-09b19f6387e1",
   "metadata": {},
   "source": [
    "## Create a source dataset\n",
    "\n",
    "Create a source dataset to write objects to"
   ]
  },
  {
   "cell_type": "code",
   "execution_count": null,
   "id": "aa5aad2e-80a2-480b-b7a5-a7a32857270e",
   "metadata": {},
   "outputs": [],
   "source": [
    "ds_src = ns_src.create_dataset(\"sync-test\", \"A dataset for a sync testing\")\n",
    "ds_src.display()"
   ]
  },
  {
   "cell_type": "code",
   "execution_count": null,
   "id": "294a8799-1264-4feb-b382-dd96885f08a4",
   "metadata": {},
   "outputs": [],
   "source": [
    "# Dataset should not exist in the target namespace yet\n",
    "try:\n",
    "    ns_tgt.get_dataset(\"sync-test\")\n",
    "    print(\"Dataset does exist in the target\")\n",
    "except hoss.error.NotFoundException:\n",
    "    print(\"Dataset does not exist in the target yet\")"
   ]
  },
  {
   "cell_type": "markdown",
   "id": "339b8c80-4b4d-4df4-b424-5c345e4fa44c",
   "metadata": {},
   "source": [
    "## Enable 1-way syncing on the dataset\n",
    "Enable 1-way syncing on the dataset. Now every file you write to the source dataset\n",
    "will automatically be synced to the same dataset in the target namespace."
   ]
  },
  {
   "cell_type": "code",
   "execution_count": null,
   "id": "69211fac-db1d-43de-80f0-6f56c9613bd1",
   "metadata": {},
   "outputs": [],
   "source": [
    "ds_src.enable_sync(\"simplex\")\n",
    "assert ds_src.is_sync_enabled() is True\n",
    "\n",
    "print(\"Waiting 25 seconds for sync service reload\")\n",
    "time.sleep(25)"
   ]
  },
  {
   "cell_type": "code",
   "execution_count": null,
   "id": "07eeb62d-fd47-4d88-8d63-30bc8b41ec7f",
   "metadata": {},
   "outputs": [],
   "source": [
    "# Dataset should exist in the target now\n",
    "ds_tgt = ns_tgt.get_dataset(\"sync-test\")"
   ]
  },
  {
   "cell_type": "markdown",
   "id": "ebc064fb-8633-4bb1-b89c-b99a02d30d4f",
   "metadata": {},
   "source": [
    "## Write files in the source and they should appear in the target"
   ]
  },
  {
   "cell_type": "code",
   "execution_count": null,
   "id": "70e04de4-5fa7-4d35-a672-894d5366d37d",
   "metadata": {},
   "outputs": [],
   "source": [
    "f_src = ds_src / \"my-file.txt\"\n",
    "f_tgt = ds_tgt / \"my-file.txt\"\n",
    "\n",
    "\n",
    "assert f_tgt.exists() is False\n",
    "f_src.write_text(\"Hello, Hoss!\")"
   ]
  },
  {
   "cell_type": "code",
   "execution_count": null,
   "id": "debf8754-6671-4503-b6b6-12edeaed5df0",
   "metadata": {},
   "outputs": [],
   "source": [
    "time.sleep(5)\n",
    "assert f_tgt.exists() is True"
   ]
  },
  {
   "cell_type": "code",
   "execution_count": null,
   "id": "ba93628e-3711-415a-912e-15bdac532469",
   "metadata": {},
   "outputs": [],
   "source": [
    "print(f_tgt.read_text())"
   ]
  },
  {
   "cell_type": "markdown",
   "id": "69d755d5-0be6-40f0-936c-0794859f59e5",
   "metadata": {},
   "source": [
    "## Write files in the target and they should NOT sync to the source"
   ]
  },
  {
   "cell_type": "code",
   "execution_count": null,
   "id": "6e9facf3-2b37-4992-998d-d7222679863a",
   "metadata": {},
   "outputs": [],
   "source": [
    "f2_src = ds_src / \"my-file2.txt\"\n",
    "f2_tgt = ds_tgt / \"my-file2.txt\"\n",
    "\n",
    "\n",
    "assert f2_src.exists() is False\n",
    "f2_tgt.write_text(\"Hello, Hoss!\")"
   ]
  },
  {
   "cell_type": "code",
   "execution_count": null,
   "id": "bcce7e51-71bf-4fdb-9bf2-3f519de81762",
   "metadata": {},
   "outputs": [],
   "source": [
    "time.sleep(5)\n",
    "assert f2_tgt.exists() is True\n",
    "assert f2_src.exists() is False"
   ]
  },
  {
   "cell_type": "markdown",
   "id": "cd6e26bc-19a3-4faa-95d2-04786f11a5ed",
   "metadata": {},
   "source": [
    "## Enable 2-way syncing on the dataset\n",
    "\n",
    "Enable 2-way syncing on the dataset. Now every file you write to the source dataset\n",
    "will automatically be synced to the same dataset in the target namespace. Also,\n",
    "every file you write in the dataset in the target namespace will be synced\n",
    "back to the dataset in the source namespace"
   ]
  },
  {
   "cell_type": "code",
   "execution_count": null,
   "id": "2ae64cb3-a2fc-4e81-be61-3e3b4a167314",
   "metadata": {},
   "outputs": [],
   "source": [
    "ds_src.disable_sync()\n",
    "print(\"Waiting 25 seconds for sync service reload\")\n",
    "time.sleep(25)\n",
    "assert ds_src.is_sync_enabled() is False\n",
    "\n",
    "ds_src.enable_sync(\"duplex\")\n",
    "assert ds_src.is_sync_enabled() is True\n",
    "\n",
    "print(\"Waiting 25 seconds for sync service reload\")\n",
    "time.sleep(30)"
   ]
  },
  {
   "cell_type": "markdown",
   "id": "4097d9ee-b9ae-4d17-9507-82c52b995083",
   "metadata": {},
   "source": [
    "## Write files in the source and they should appear in the target"
   ]
  },
  {
   "cell_type": "code",
   "execution_count": null,
   "id": "fafebd04-9701-475d-863a-ec89c094a132",
   "metadata": {},
   "outputs": [],
   "source": [
    "f3_src = ds_src / \"my-file3.txt\"\n",
    "f3_tgt = ds_tgt / \"my-file3.txt\"\n",
    "\n",
    "\n",
    "assert f3_tgt.exists() is False\n",
    "f3_src.write_text(\"Hello, 2-way syncing Hoss!\")"
   ]
  },
  {
   "cell_type": "code",
   "execution_count": null,
   "id": "1d85aa28-3a53-4237-9126-912729ba88b3",
   "metadata": {},
   "outputs": [],
   "source": [
    "time.sleep(5)\n",
    "assert f3_tgt.exists() is True"
   ]
  },
  {
   "cell_type": "code",
   "execution_count": null,
   "id": "c9b38e8b-e03a-4c94-8c74-f574cc116fcd",
   "metadata": {},
   "outputs": [],
   "source": [
    "print(f3_tgt.read_text())"
   ]
  },
  {
   "cell_type": "markdown",
   "id": "1c8870d8-efd8-42d9-8f60-070a8e571d29",
   "metadata": {},
   "source": [
    "## Write files in the target and they should also sync to the source"
   ]
  },
  {
   "cell_type": "code",
   "execution_count": null,
   "id": "5d21daac-d621-4440-9de5-84db202355bf",
   "metadata": {},
   "outputs": [],
   "source": [
    "f4_src = ds_src / \"my-file4.txt\"\n",
    "f4_tgt = ds_tgt / \"my-file4.txt\"\n",
    "\n",
    "\n",
    "assert f4_src.exists() is False\n",
    "f4_tgt.write_text(\"Hello, Hoss!\")"
   ]
  },
  {
   "cell_type": "code",
   "execution_count": null,
   "id": "dec89a0d-fab8-4540-86c7-5fb583ce2c63",
   "metadata": {},
   "outputs": [],
   "source": [
    "time.sleep(5)\n",
    "assert f4_tgt.exists() is True\n",
    "assert f4_src.exists() is True"
   ]
  },
  {
   "cell_type": "markdown",
   "id": "27f57542-c3e5-4fd3-940d-a7dca9c6ec59",
   "metadata": {},
   "source": [
    "## Clean up this example\n",
    "Run these cells to remove the resources created during the test"
   ]
  },
  {
   "cell_type": "code",
   "execution_count": null,
   "id": "d2283d88-2293-4c18-8b52-3bc6be014f8b",
   "metadata": {},
   "outputs": [],
   "source": [
    "ds_src.disable_sync()\n",
    "time.sleep(25)"
   ]
  },
  {
   "cell_type": "code",
   "execution_count": null,
   "id": "3331bfa2-f98b-425f-b8ba-4cbd197d3741",
   "metadata": {},
   "outputs": [],
   "source": [
    "ns_src.disable_sync_target(\"http://localhost\", \"ns-tgt\")\n",
    "time.sleep(25)"
   ]
  },
  {
   "cell_type": "code",
   "execution_count": null,
   "id": "bbe09148-28bb-4b3f-8e22-83f0c489ac37",
   "metadata": {},
   "outputs": [],
   "source": [
    "ns_src.delete_dataset(\"sync-test\")"
   ]
  },
  {
   "cell_type": "code",
   "execution_count": null,
   "id": "a805aca3-3cf9-4cb4-ba4d-bc83db0b29ba",
   "metadata": {},
   "outputs": [],
   "source": [
    "ns_tgt.delete_dataset(\"sync-test\")"
   ]
  },
  {
   "cell_type": "code",
   "execution_count": null,
   "id": "93979194-22fe-422c-9cee-bfa48a330c53",
   "metadata": {},
   "outputs": [],
   "source": [
    "server_local.delete_namespace(\"ns-src\")"
   ]
  },
  {
   "cell_type": "code",
   "execution_count": null,
   "id": "15c445db-d2af-4c84-9900-d21dcb22ca89",
   "metadata": {},
   "outputs": [],
   "source": [
    "server_local.delete_namespace(\"ns-tgt\")"
   ]
  },
  {
   "cell_type": "code",
   "execution_count": null,
   "id": "1a6bfec7-ccc6-4cb8-af18-1b59be48084e",
   "metadata": {},
   "outputs": [],
   "source": [
    "shutil.rmtree(os.path.join(hoss_data_dir, \"src_bucket\"), ignore_errors=True)\n",
    "shutil.rmtree(os.path.join(hoss_data_dir, \"tgt_bucket\"), ignore_errors=True)"
   ]
  },
  {
   "cell_type": "code",
   "execution_count": null,
   "id": "89394082-e1fd-4c95-8142-c38a98eba6e6",
   "metadata": {},
   "outputs": [],
   "source": []
  }
 ],
 "metadata": {
  "kernelspec": {
   "display_name": "Python 3 (ipykernel)",
   "language": "python",
   "name": "python3"
  },
  "language_info": {
   "codemirror_mode": {
    "name": "ipython",
    "version": 3
   },
   "file_extension": ".py",
   "mimetype": "text/x-python",
   "name": "python",
   "nbconvert_exporter": "python",
   "pygments_lexer": "ipython3",
   "version": "3.7.8"
  }
 },
 "nbformat": 4,
 "nbformat_minor": 5
}
